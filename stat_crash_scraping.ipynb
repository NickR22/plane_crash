{
 "cells": [
  {
   "cell_type": "markdown",
   "id": "96cd1c9a-5c02-4249-8792-caca05a57e34",
   "metadata": {},
   "source": [
    "# Étude Statistique Accident d'avion - Scraping"
   ]
  },
  {
   "cell_type": "markdown",
   "id": "e480dc18-3f00-42a0-9a8e-6078ce3c9671",
   "metadata": {},
   "source": [
    "L'analyse de la probabilité de mourir dans un accident d'avion est une étude statistique qui vise à évaluer le risque de décès lors d'un vol. Cette analyse utilise des données sur les accidents d'avion passés pour estimer la probabilité de décès en cas d'accident. Elle peut également tenir compte de facteurs tels que la compagnie aérienne, le type d'avion et les itinéraires de vol pour affiner les résultats. L'objectif de cette analyse est d'aider les voyageurs à comprendre les risques associés aux voyages en avion."
   ]
  },
  {
   "cell_type": "markdown",
   "id": "30b99900-d0ed-4884-9b40-526320d16d62",
   "metadata": {},
   "source": [
    "Pour se faire nous utiliserons la base de données de l'ASN qui recense tous les accidents d'avions dans le monde.\n",
    "https://aviation-safety.net/database/\n",
    "\n",
    "Combiné à la cela pour estimer la probabilité de subir un accident, nous allons utiliser les données Statistica sur le traffic aérien par année de 2004 à ce jour.\n",
    "\n",
    "https://www.statista.com/statistics/564769/airline-industry-number-of-flights/\n",
    "\n",
    "J'aurais apprécié une base de données plus détaillée avec le trafic par pays mais il s'agit du mieux que j'ai pu trouver en open data."
   ]
  },
  {
   "cell_type": "code",
   "execution_count": 294,
   "id": "1537a455-2f8f-4f9d-a5b2-dbc158060c77",
   "metadata": {},
   "outputs": [],
   "source": [
    "import requests \n",
    "from bs4 import BeautifulSoup \n",
    "import pandas as pd\n",
    "\n",
    "from selenium.webdriver.common.keys import Keys\n",
    "\n",
    "import time\n",
    "\n",
    "from selenium import webdriver\n",
    "from selenium.webdriver.chrome.service import Service\n",
    "from selenium.webdriver.common.by import By\n",
    "from selenium.webdriver.support.ui import WebDriverWait\n",
    "from selenium.webdriver.support import expected_conditions as EC"
   ]
  },
  {
   "cell_type": "code",
   "execution_count": 288,
   "id": "37e77e62-3a46-450e-894d-cdbc017e37ab",
   "metadata": {},
   "outputs": [],
   "source": [
    "years = list(range(1960, 2023))\n",
    "urls = [f\"https://aviation-safety.net/database/dblist.php?Year={year}\" for year in years]\n"
   ]
  },
  {
   "cell_type": "code",
   "execution_count": 303,
   "id": "4344db76-814f-4a58-9ed8-26b884d68711",
   "metadata": {},
   "outputs": [],
   "source": [
    "driver = webdriver.Chrome()"
   ]
  },
  {
   "cell_type": "code",
   "execution_count": 302,
   "id": "b7c9ba37-5700-43ae-b4dd-b41a04addebb",
   "metadata": {},
   "outputs": [],
   "source": [
    "#Les listes qui seront utilisés pour générer les colonnes du dataframe\n",
    "date_list = []\n",
    "model_list = []\n",
    "operator_list = []\n",
    "fat_list = []\n",
    "loc_list = []\n",
    "cat_list = []\n",
    "register_list = []"
   ]
  },
  {
   "cell_type": "code",
   "execution_count": 291,
   "id": "921eae3e-9373-4da1-8852-c4ae579e887b",
   "metadata": {},
   "outputs": [
    {
     "name": "stdout",
     "output_type": "stream",
     "text": [
      "63\n"
     ]
    }
   ],
   "source": [
    "print(len(urls))"
   ]
  },
  {
   "cell_type": "code",
   "execution_count": null,
   "id": "7d64ab3e-4fe6-4421-a6de-461af9455505",
   "metadata": {},
   "outputs": [],
   "source": [
    "\n",
    "for i,url in enumerate(urls):\n",
    "    driver.get(url)\n",
    "    \n",
    "    page_no = 2\n",
    "    \n",
    "    #Tant qu'il existe une table et une pagination, le script continue à scraper\n",
    "    while True:\n",
    "        try:\n",
    "            table = WebDriverWait(driver, 10).until(EC.presence_of_element_located((By.CSS_SELECTOR, \"table\")))\n",
    "            rows = table.find_elements(By.TAG_NAME, \"tr\")\n",
    "            \n",
    "            #Récupère tous les éléments HTML \"<td>\" qui se trouvent dans chaque ligne \"<tr>\"\n",
    "            #Autrement dit toutes les colonnes pour chaque lignes\n",
    "            for row in rows:\n",
    "                cells = row.find_elements(By.CSS_SELECTOR, \"td\")\n",
    "\n",
    "                #Vérifie si le nombre de cellules est égal à 9. \n",
    "                #Cela permet d'exclure les en-têtes de table qui ne contiennent pas d'informations de crash.\n",
    "                \n",
    "                if len(cells) == 9 :\n",
    "                    date0 = cells[0].text.strip()\n",
    "                    date_list.append(date0)\n",
    "\n",
    "                    model0 = cells[1].text.strip()\n",
    "                    if model0 == '' :\n",
    "                        model0 = None\n",
    "                    model_list.append(model0)\n",
    "\n",
    "                    register0 = cells[2].text.strip()\n",
    "                    if register0 == '' :\n",
    "                        register0 = None\n",
    "                    register_list.append(register0)\n",
    "\n",
    "                    operator0 = cells[3].text.strip()\n",
    "                    if operator0 == '' :\n",
    "                        operator0 = None\n",
    "                    operator_list.append(operator0)\n",
    "\n",
    "                    fat0 = cells[4].text.strip()\n",
    "                    if fat0 == '' :\n",
    "                        fat0 = None\n",
    "                    fat_list.append(fat0)\n",
    "\n",
    "                    cat0 = cells[8].text.strip()\n",
    "                    if cat0 == '' :\n",
    "                        cat0 = None\n",
    "                    cat_list.append(cat0)\n",
    "\n",
    "                    img = cells[6].find_element(By.XPATH,'.//img')\n",
    "                    loc0 = img.get_attribute('title')\n",
    "                    if loc0 == '' :\n",
    "                        loc0 = None\n",
    "                    loc_list.append(loc0)\n",
    "\n",
    "            try:\n",
    "                page_no += 1\n",
    "                print(\"Trying :\",page_no)\n",
    "                \n",
    "                #Tente d'aller à la page suivante\n",
    "                driver.find_element(By.CSS_SELECTOR, f'a[href*=\"page={page_no}\"]').click()\n",
    "                print(len(date_list))\n",
    "            except:\n",
    "                print(\"No more page\")\n",
    "                break\n",
    "\n",
    "        except StaleElementReferenceException:\n",
    "            print(\"Stale element reference. Trying again...\")\n",
    "            continue\n",
    "\n",
    "    print(\"Avancement:\", i/len(urls)*100)\n"
   ]
  },
  {
   "cell_type": "code",
   "execution_count": 305,
   "id": "78bfb139-bf9b-4cb0-985f-35b633081478",
   "metadata": {},
   "outputs": [
    {
     "data": {
      "text/html": [
       "<div>\n",
       "<style scoped>\n",
       "    .dataframe tbody tr th:only-of-type {\n",
       "        vertical-align: middle;\n",
       "    }\n",
       "\n",
       "    .dataframe tbody tr th {\n",
       "        vertical-align: top;\n",
       "    }\n",
       "\n",
       "    .dataframe thead th {\n",
       "        text-align: right;\n",
       "    }\n",
       "</style>\n",
       "<table border=\"1\" class=\"dataframe\">\n",
       "  <thead>\n",
       "    <tr style=\"text-align: right;\">\n",
       "      <th></th>\n",
       "      <th>Date</th>\n",
       "      <th>Model</th>\n",
       "      <th>Operator</th>\n",
       "      <th>Fatalities</th>\n",
       "      <th>Location</th>\n",
       "      <th>Category</th>\n",
       "      <th>Registration</th>\n",
       "    </tr>\n",
       "  </thead>\n",
       "  <tbody>\n",
       "    <tr>\n",
       "      <th>0</th>\n",
       "      <td>03-JAN-1960</td>\n",
       "      <td>Douglas C-47A (DC-3)</td>\n",
       "      <td>Indian Airlines</td>\n",
       "      <td>9</td>\n",
       "      <td>India</td>\n",
       "      <td>A1</td>\n",
       "      <td>VT-CGG</td>\n",
       "    </tr>\n",
       "    <tr>\n",
       "      <th>1</th>\n",
       "      <td>03-JAN-1960</td>\n",
       "      <td>Lockheed L-749A Constellation</td>\n",
       "      <td>Eastern Air Lines</td>\n",
       "      <td>0</td>\n",
       "      <td>USA</td>\n",
       "      <td>A1</td>\n",
       "      <td>N110A</td>\n",
       "    </tr>\n",
       "    <tr>\n",
       "      <th>2</th>\n",
       "      <td>04-JAN-1960</td>\n",
       "      <td>Curtiss C-46A</td>\n",
       "      <td>T.A. Salvador</td>\n",
       "      <td>0</td>\n",
       "      <td>Brazil</td>\n",
       "      <td>A1</td>\n",
       "      <td>PP-SLJ</td>\n",
       "    </tr>\n",
       "    <tr>\n",
       "      <th>3</th>\n",
       "      <td>04-JAN-1960</td>\n",
       "      <td>U-1A Otter (DHC-3)</td>\n",
       "      <td>US Army</td>\n",
       "      <td>10</td>\n",
       "      <td>Libya</td>\n",
       "      <td>A1</td>\n",
       "      <td>55-2974</td>\n",
       "    </tr>\n",
       "    <tr>\n",
       "      <th>4</th>\n",
       "      <td>05-JAN-1960</td>\n",
       "      <td>Vickers 701 Viscount</td>\n",
       "      <td>BEA</td>\n",
       "      <td>0</td>\n",
       "      <td>Malta</td>\n",
       "      <td>A1</td>\n",
       "      <td>G-AMNY</td>\n",
       "    </tr>\n",
       "  </tbody>\n",
       "</table>\n",
       "</div>"
      ],
      "text/plain": [
       "          Date                          Model           Operator Fatalities  \\\n",
       "0  03-JAN-1960           Douglas C-47A (DC-3)    Indian Airlines          9   \n",
       "1  03-JAN-1960  Lockheed L-749A Constellation  Eastern Air Lines          0   \n",
       "2  04-JAN-1960                  Curtiss C-46A      T.A. Salvador          0   \n",
       "3  04-JAN-1960             U-1A Otter (DHC-3)            US Army         10   \n",
       "4  05-JAN-1960           Vickers 701 Viscount                BEA          0   \n",
       "\n",
       "  Location Category Registration  \n",
       "0    India       A1       VT-CGG  \n",
       "1      USA       A1        N110A  \n",
       "2   Brazil       A1       PP-SLJ  \n",
       "3    Libya       A1      55-2974  \n",
       "4    Malta       A1       G-AMNY  "
      ]
     },
     "execution_count": 305,
     "metadata": {},
     "output_type": "execute_result"
    }
   ],
   "source": [
    "data_dict = {\n",
    "    'Date': date_list,\n",
    "    'Model': model_list,\n",
    "    'Operator': operator_list,\n",
    "    'Fatalities': fat_list,\n",
    "    'Location': loc_list,\n",
    "    'Category': cat_list,\n",
    "    'Registration': register_list\n",
    "}\n",
    "\n",
    "# create a DataFrame from the dictionary\n",
    "df = pd.DataFrame(data_dict)\n",
    "df.head()"
   ]
  },
  {
   "cell_type": "code",
   "execution_count": 306,
   "id": "5be41a8a-454b-4503-ae32-4f4dcb7ab689",
   "metadata": {},
   "outputs": [
    {
     "data": {
      "text/plain": [
       "(8934, 7)"
      ]
     },
     "execution_count": 306,
     "metadata": {},
     "output_type": "execute_result"
    }
   ],
   "source": [
    "df.shape"
   ]
  },
  {
   "cell_type": "code",
   "execution_count": 308,
   "id": "4cf6e639-f895-429e-b170-9ae0fc8655b1",
   "metadata": {},
   "outputs": [],
   "source": [
    "#Export des résultats \n",
    "df.to_csv(\"ASN Database.csv\",index=False)"
   ]
  },
  {
   "cell_type": "code",
   "execution_count": null,
   "id": "7cedbf5e-1f4b-4df1-bc45-34bef1686c80",
   "metadata": {},
   "outputs": [],
   "source": []
  }
 ],
 "metadata": {
  "kernelspec": {
   "display_name": "Python 3 (ipykernel)",
   "language": "python",
   "name": "python3"
  },
  "language_info": {
   "codemirror_mode": {
    "name": "ipython",
    "version": 3
   },
   "file_extension": ".py",
   "mimetype": "text/x-python",
   "name": "python",
   "nbconvert_exporter": "python",
   "pygments_lexer": "ipython3",
   "version": "3.10.9"
  }
 },
 "nbformat": 4,
 "nbformat_minor": 5
}

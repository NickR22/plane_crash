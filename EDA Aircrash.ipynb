{
 "cells": [
  {
   "cell_type": "markdown",
   "id": "0f9e5057-68a9-4c17-a4d5-6d7562e213f9",
   "metadata": {},
   "source": [
    "# Étude Statistique Accident d'avion - EDA des accidents"
   ]
  },
  {
   "cell_type": "markdown",
   "id": "d1deb97a-11ae-4bc0-bcc3-f44b052de1d2",
   "metadata": {},
   "source": [
    "L'analyse de la probabilité de mourir dans un accident d'avion est une étude statistique qui vise à évaluer le risque de décès lors d'un vol. Cette analyse utilise des données sur les accidents d'avion passés pour estimer la probabilité de décès en cas d'accident. Elle peut également tenir compte de facteurs tels que la compagnie aérienne, le type d'avion et les itinéraires de vol pour affiner les résultats. L'objectif de cette analyse est d'aider les voyageurs à comprendre les risques associés aux voyages en avion.\n",
    "\n",
    "Pour se faire nous utiliserons la base de données de l'ASN qui recense tous les accidents d'avions dans le monde. https://aviation-safety.net/database/\n",
    "\n",
    "Combiné à la cela pour estimer la probabilité de subir un accident, nous allons utiliser les données Statistica sur le traffic aérien par année de 2004 à ce jour.\n",
    "\n",
    "https://www.statista.com/statistics/564769/airline-industry-number-of-flights/\n",
    "\n",
    "J'aurais apprécié une base de données plus détaillée avec le trafic par pays mais il s'agit du mieux que j'ai pu trouver en open data."
   ]
  },
  {
   "cell_type": "code",
   "execution_count": 1,
   "id": "0ca2d4e0-e45b-4672-92ed-6bc4ffff8c22",
   "metadata": {},
   "outputs": [],
   "source": [
    "import pandas as pd\n",
    "import numpy as np\n",
    "import re\n",
    "import seaborn as sns\n",
    "import matplotlib.pyplot as plt"
   ]
  },
  {
   "cell_type": "code",
   "execution_count": 347,
   "id": "5011c77f-4e8c-4920-a152-071b7b7e7662",
   "metadata": {},
   "outputs": [
    {
     "data": {
      "text/html": [
       "<div>\n",
       "<style scoped>\n",
       "    .dataframe tbody tr th:only-of-type {\n",
       "        vertical-align: middle;\n",
       "    }\n",
       "\n",
       "    .dataframe tbody tr th {\n",
       "        vertical-align: top;\n",
       "    }\n",
       "\n",
       "    .dataframe thead th {\n",
       "        text-align: right;\n",
       "    }\n",
       "</style>\n",
       "<table border=\"1\" class=\"dataframe\">\n",
       "  <thead>\n",
       "    <tr style=\"text-align: right;\">\n",
       "      <th></th>\n",
       "      <th>Date</th>\n",
       "      <th>Model</th>\n",
       "      <th>Operator</th>\n",
       "      <th>Fatalities</th>\n",
       "      <th>Location</th>\n",
       "      <th>Category</th>\n",
       "      <th>Registration</th>\n",
       "    </tr>\n",
       "  </thead>\n",
       "  <tbody>\n",
       "    <tr>\n",
       "      <th>0</th>\n",
       "      <td>04-JAN-2001</td>\n",
       "      <td>Shaanxi Yunshuji Y-8</td>\n",
       "      <td>China Air Force</td>\n",
       "      <td>8+ 6</td>\n",
       "      <td>China</td>\n",
       "      <td>A1</td>\n",
       "      <td>31242</td>\n",
       "    </tr>\n",
       "    <tr>\n",
       "      <th>1</th>\n",
       "      <td>04-JAN-2001</td>\n",
       "      <td>Shaanxi Yunshuji Y-8</td>\n",
       "      <td>China Air Force</td>\n",
       "      <td>8</td>\n",
       "      <td>China</td>\n",
       "      <td>A1</td>\n",
       "      <td>31243</td>\n",
       "    </tr>\n",
       "    <tr>\n",
       "      <th>2</th>\n",
       "      <td>04-JAN-2001</td>\n",
       "      <td>Learjet 35</td>\n",
       "      <td>Air Response North</td>\n",
       "      <td>0</td>\n",
       "      <td>USA</td>\n",
       "      <td>A1</td>\n",
       "      <td>N435JL</td>\n",
       "    </tr>\n",
       "    <tr>\n",
       "      <th>3</th>\n",
       "      <td>05-JAN-2001</td>\n",
       "      <td>Boeing 727-46F</td>\n",
       "      <td>Air Gemini Cargo</td>\n",
       "      <td>0+ 1</td>\n",
       "      <td>Angola</td>\n",
       "      <td>A1</td>\n",
       "      <td>S9-BAI</td>\n",
       "    </tr>\n",
       "    <tr>\n",
       "      <th>4</th>\n",
       "      <td>06-JAN-2001</td>\n",
       "      <td>BN-2A-2 Islander</td>\n",
       "      <td>Guyana AF</td>\n",
       "      <td>3</td>\n",
       "      <td>Guyana</td>\n",
       "      <td>A1</td>\n",
       "      <td>8R-GFN</td>\n",
       "    </tr>\n",
       "  </tbody>\n",
       "</table>\n",
       "</div>"
      ],
      "text/plain": [
       "          Date                 Model            Operator Fatalities Location  \\\n",
       "0  04-JAN-2001  Shaanxi Yunshuji Y-8     China Air Force       8+ 6    China   \n",
       "1  04-JAN-2001  Shaanxi Yunshuji Y-8     China Air Force          8    China   \n",
       "2  04-JAN-2001            Learjet 35  Air Response North          0      USA   \n",
       "3  05-JAN-2001        Boeing 727-46F    Air Gemini Cargo       0+ 1   Angola   \n",
       "4  06-JAN-2001      BN-2A-2 Islander           Guyana AF          3   Guyana   \n",
       "\n",
       "  Category Registration  \n",
       "0       A1        31242  \n",
       "1       A1        31243  \n",
       "2       A1       N435JL  \n",
       "3       A1       S9-BAI  \n",
       "4       A1       8R-GFN  "
      ]
     },
     "execution_count": 347,
     "metadata": {},
     "output_type": "execute_result"
    }
   ],
   "source": [
    "df1 = pd.read_csv(\"/Users/stratospheric/Documents/Plane Crash/ASN Database 1960-1980.csv\")\n",
    "df2 = pd.read_csv(\"/Users/stratospheric/Documents/Plane Crash/ASN Database 1981-2000.csv\")\n",
    "df3 = pd.read_csv(\"/Users/stratospheric/Documents/Plane Crash/ASN Database 2001-2022.csv\")\n",
    "\n",
    "df3.head()"
   ]
  },
  {
   "cell_type": "code",
   "execution_count": 373,
   "id": "ea2d0641-af81-4cde-b87d-d1d116ade9c2",
   "metadata": {},
   "outputs": [],
   "source": [
    "df = pd.concat([df1,df2,df3]).reset_index()"
   ]
  },
  {
   "cell_type": "code",
   "execution_count": 374,
   "id": "d267ec51-e6bd-40c0-ad97-749a82364858",
   "metadata": {},
   "outputs": [],
   "source": [
    "df.drop('index', axis=1, inplace=True)"
   ]
  },
  {
   "cell_type": "code",
   "execution_count": 375,
   "id": "4ade2b00-f680-42bb-b3e8-83b904d5fa18",
   "metadata": {},
   "outputs": [
    {
     "data": {
      "text/html": [
       "<div>\n",
       "<style scoped>\n",
       "    .dataframe tbody tr th:only-of-type {\n",
       "        vertical-align: middle;\n",
       "    }\n",
       "\n",
       "    .dataframe tbody tr th {\n",
       "        vertical-align: top;\n",
       "    }\n",
       "\n",
       "    .dataframe thead th {\n",
       "        text-align: right;\n",
       "    }\n",
       "</style>\n",
       "<table border=\"1\" class=\"dataframe\">\n",
       "  <thead>\n",
       "    <tr style=\"text-align: right;\">\n",
       "      <th></th>\n",
       "      <th>Date</th>\n",
       "      <th>Model</th>\n",
       "      <th>Operator</th>\n",
       "      <th>Fatalities</th>\n",
       "      <th>Location</th>\n",
       "      <th>Category</th>\n",
       "      <th>Registration</th>\n",
       "    </tr>\n",
       "  </thead>\n",
       "  <tbody>\n",
       "    <tr>\n",
       "      <th>0</th>\n",
       "      <td>03-JAN-1960</td>\n",
       "      <td>Douglas C-47A (DC-3)</td>\n",
       "      <td>Indian Airlines</td>\n",
       "      <td>9</td>\n",
       "      <td>India</td>\n",
       "      <td>A1</td>\n",
       "      <td>VT-CGG</td>\n",
       "    </tr>\n",
       "    <tr>\n",
       "      <th>1</th>\n",
       "      <td>03-JAN-1960</td>\n",
       "      <td>Lockheed L-749A Constellation</td>\n",
       "      <td>Eastern Air Lines</td>\n",
       "      <td>0</td>\n",
       "      <td>USA</td>\n",
       "      <td>A1</td>\n",
       "      <td>N110A</td>\n",
       "    </tr>\n",
       "    <tr>\n",
       "      <th>2</th>\n",
       "      <td>04-JAN-1960</td>\n",
       "      <td>Curtiss C-46A</td>\n",
       "      <td>T.A. Salvador</td>\n",
       "      <td>0</td>\n",
       "      <td>Brazil</td>\n",
       "      <td>A1</td>\n",
       "      <td>PP-SLJ</td>\n",
       "    </tr>\n",
       "    <tr>\n",
       "      <th>3</th>\n",
       "      <td>04-JAN-1960</td>\n",
       "      <td>U-1A Otter (DHC-3)</td>\n",
       "      <td>US Army</td>\n",
       "      <td>10</td>\n",
       "      <td>Libya</td>\n",
       "      <td>A1</td>\n",
       "      <td>55-2974</td>\n",
       "    </tr>\n",
       "    <tr>\n",
       "      <th>4</th>\n",
       "      <td>05-JAN-1960</td>\n",
       "      <td>Vickers 701 Viscount</td>\n",
       "      <td>BEA</td>\n",
       "      <td>0</td>\n",
       "      <td>Malta</td>\n",
       "      <td>A1</td>\n",
       "      <td>G-AMNY</td>\n",
       "    </tr>\n",
       "  </tbody>\n",
       "</table>\n",
       "</div>"
      ],
      "text/plain": [
       "          Date                          Model           Operator Fatalities  \\\n",
       "0  03-JAN-1960           Douglas C-47A (DC-3)    Indian Airlines          9   \n",
       "1  03-JAN-1960  Lockheed L-749A Constellation  Eastern Air Lines          0   \n",
       "2  04-JAN-1960                  Curtiss C-46A      T.A. Salvador          0   \n",
       "3  04-JAN-1960             U-1A Otter (DHC-3)            US Army         10   \n",
       "4  05-JAN-1960           Vickers 701 Viscount                BEA          0   \n",
       "\n",
       "  Location Category Registration  \n",
       "0    India       A1       VT-CGG  \n",
       "1      USA       A1        N110A  \n",
       "2   Brazil       A1       PP-SLJ  \n",
       "3    Libya       A1      55-2974  \n",
       "4    Malta       A1       G-AMNY  "
      ]
     },
     "execution_count": 375,
     "metadata": {},
     "output_type": "execute_result"
    }
   ],
   "source": [
    "df.head()"
   ]
  },
  {
   "cell_type": "code",
   "execution_count": 365,
   "id": "f5ae09a0-a13c-4814-acae-84791e222fc4",
   "metadata": {},
   "outputs": [
    {
     "data": {
      "text/plain": [
       "Date            object\n",
       "Model           object\n",
       "Operator        object\n",
       "Fatalities      object\n",
       "Location        object\n",
       "Category        object\n",
       "Registration    object\n",
       "dtype: object"
      ]
     },
     "execution_count": 365,
     "metadata": {},
     "output_type": "execute_result"
    }
   ],
   "source": [
    "df.dtypes"
   ]
  },
  {
   "cell_type": "code",
   "execution_count": 7,
   "id": "5ba19f0f-5f64-4282-8810-23695fee4421",
   "metadata": {},
   "outputs": [
    {
     "data": {
      "text/plain": [
       "Date               0\n",
       "Model              0\n",
       "Operator           3\n",
       "Fatalities       960\n",
       "Location           0\n",
       "Category           0\n",
       "Registration    1034\n",
       "dtype: int64"
      ]
     },
     "execution_count": 7,
     "metadata": {},
     "output_type": "execute_result"
    }
   ],
   "source": [
    "df.isnull().sum()"
   ]
  },
  {
   "cell_type": "code",
   "execution_count": 8,
   "id": "0a2f8182-7d4d-428a-b7bf-28a8096525b4",
   "metadata": {},
   "outputs": [
    {
     "data": {
      "text/plain": [
       "13638"
      ]
     },
     "execution_count": 8,
     "metadata": {},
     "output_type": "execute_result"
    }
   ],
   "source": [
    "df['Registration'].nunique()"
   ]
  },
  {
   "cell_type": "code",
   "execution_count": 9,
   "id": "26374306-d521-4f5c-af61-c5f54ccbc798",
   "metadata": {},
   "outputs": [
    {
     "data": {
      "text/plain": [
       "2577"
      ]
     },
     "execution_count": 9,
     "metadata": {},
     "output_type": "execute_result"
    }
   ],
   "source": [
    "df['Model'].nunique()"
   ]
  },
  {
   "cell_type": "markdown",
   "id": "3fbb35d5-9c4a-4381-9ae2-140087b773bd",
   "metadata": {},
   "source": [
    "Il y a quelques transformations à effectuer sur le type des colonnes, notamment mettre la date en format date et fatalities en format numeric int."
   ]
  },
  {
   "cell_type": "code",
   "execution_count": 10,
   "id": "f48ee293-a13b-4562-8568-1a447aa2a0eb",
   "metadata": {},
   "outputs": [
    {
     "data": {
      "text/plain": [
       "(15004, 7)"
      ]
     },
     "execution_count": 10,
     "metadata": {},
     "output_type": "execute_result"
    }
   ],
   "source": [
    "df.shape"
   ]
  },
  {
   "cell_type": "code",
   "execution_count": 376,
   "id": "62ee44b9-9b30-4937-8b71-61290a7ddb3d",
   "metadata": {},
   "outputs": [],
   "source": [
    "duplicate_rows = df[df.duplicated()]\n",
    "duplicate_rows\n",
    "\n",
    "df = df.drop_duplicates()"
   ]
  },
  {
   "cell_type": "code",
   "execution_count": 367,
   "id": "bd6d739c-118d-418e-9aae-9c6c5b03b9a0",
   "metadata": {},
   "outputs": [
    {
     "data": {
      "text/plain": [
       "(14997, 7)"
      ]
     },
     "execution_count": 367,
     "metadata": {},
     "output_type": "execute_result"
    }
   ],
   "source": [
    "df.shape"
   ]
  },
  {
   "cell_type": "code",
   "execution_count": 377,
   "id": "3a59bb1e-2999-4586-955a-572eedb00813",
   "metadata": {},
   "outputs": [],
   "source": [
    "df[['Day', 'Month', 'Year']] = df['Date'].str.split('-', expand=True)"
   ]
  },
  {
   "cell_type": "code",
   "execution_count": 369,
   "id": "38404b48-8dbf-44a3-b9da-bdebf51ff563",
   "metadata": {},
   "outputs": [
    {
     "data": {
      "text/html": [
       "<div>\n",
       "<style scoped>\n",
       "    .dataframe tbody tr th:only-of-type {\n",
       "        vertical-align: middle;\n",
       "    }\n",
       "\n",
       "    .dataframe tbody tr th {\n",
       "        vertical-align: top;\n",
       "    }\n",
       "\n",
       "    .dataframe thead th {\n",
       "        text-align: right;\n",
       "    }\n",
       "</style>\n",
       "<table border=\"1\" class=\"dataframe\">\n",
       "  <thead>\n",
       "    <tr style=\"text-align: right;\">\n",
       "      <th></th>\n",
       "      <th>Date</th>\n",
       "      <th>Model</th>\n",
       "      <th>Operator</th>\n",
       "      <th>Fatalities</th>\n",
       "      <th>Location</th>\n",
       "      <th>Category</th>\n",
       "      <th>Registration</th>\n",
       "      <th>Day</th>\n",
       "      <th>Month</th>\n",
       "      <th>Year</th>\n",
       "    </tr>\n",
       "  </thead>\n",
       "  <tbody>\n",
       "    <tr>\n",
       "      <th>0</th>\n",
       "      <td>03-JAN-1960</td>\n",
       "      <td>Douglas C-47A (DC-3)</td>\n",
       "      <td>Indian Airlines</td>\n",
       "      <td>9</td>\n",
       "      <td>India</td>\n",
       "      <td>A1</td>\n",
       "      <td>VT-CGG</td>\n",
       "      <td>03</td>\n",
       "      <td>JAN</td>\n",
       "      <td>1960</td>\n",
       "    </tr>\n",
       "    <tr>\n",
       "      <th>1</th>\n",
       "      <td>03-JAN-1960</td>\n",
       "      <td>Lockheed L-749A Constellation</td>\n",
       "      <td>Eastern Air Lines</td>\n",
       "      <td>0</td>\n",
       "      <td>USA</td>\n",
       "      <td>A1</td>\n",
       "      <td>N110A</td>\n",
       "      <td>03</td>\n",
       "      <td>JAN</td>\n",
       "      <td>1960</td>\n",
       "    </tr>\n",
       "    <tr>\n",
       "      <th>2</th>\n",
       "      <td>04-JAN-1960</td>\n",
       "      <td>Curtiss C-46A</td>\n",
       "      <td>T.A. Salvador</td>\n",
       "      <td>0</td>\n",
       "      <td>Brazil</td>\n",
       "      <td>A1</td>\n",
       "      <td>PP-SLJ</td>\n",
       "      <td>04</td>\n",
       "      <td>JAN</td>\n",
       "      <td>1960</td>\n",
       "    </tr>\n",
       "    <tr>\n",
       "      <th>3</th>\n",
       "      <td>04-JAN-1960</td>\n",
       "      <td>U-1A Otter (DHC-3)</td>\n",
       "      <td>US Army</td>\n",
       "      <td>10</td>\n",
       "      <td>Libya</td>\n",
       "      <td>A1</td>\n",
       "      <td>55-2974</td>\n",
       "      <td>04</td>\n",
       "      <td>JAN</td>\n",
       "      <td>1960</td>\n",
       "    </tr>\n",
       "    <tr>\n",
       "      <th>4</th>\n",
       "      <td>05-JAN-1960</td>\n",
       "      <td>Vickers 701 Viscount</td>\n",
       "      <td>BEA</td>\n",
       "      <td>0</td>\n",
       "      <td>Malta</td>\n",
       "      <td>A1</td>\n",
       "      <td>G-AMNY</td>\n",
       "      <td>05</td>\n",
       "      <td>JAN</td>\n",
       "      <td>1960</td>\n",
       "    </tr>\n",
       "  </tbody>\n",
       "</table>\n",
       "</div>"
      ],
      "text/plain": [
       "          Date                          Model           Operator Fatalities  \\\n",
       "0  03-JAN-1960           Douglas C-47A (DC-3)    Indian Airlines          9   \n",
       "1  03-JAN-1960  Lockheed L-749A Constellation  Eastern Air Lines          0   \n",
       "2  04-JAN-1960                  Curtiss C-46A      T.A. Salvador          0   \n",
       "3  04-JAN-1960             U-1A Otter (DHC-3)            US Army         10   \n",
       "4  05-JAN-1960           Vickers 701 Viscount                BEA          0   \n",
       "\n",
       "  Location Category Registration Day Month  Year  \n",
       "0    India       A1       VT-CGG  03   JAN  1960  \n",
       "1      USA       A1        N110A  03   JAN  1960  \n",
       "2   Brazil       A1       PP-SLJ  04   JAN  1960  \n",
       "3    Libya       A1      55-2974  04   JAN  1960  \n",
       "4    Malta       A1       G-AMNY  05   JAN  1960  "
      ]
     },
     "execution_count": 369,
     "metadata": {},
     "output_type": "execute_result"
    }
   ],
   "source": [
    "df.head()"
   ]
  },
  {
   "cell_type": "code",
   "execution_count": 378,
   "id": "2b20c21a-4919-4535-974c-24a7f7495c8f",
   "metadata": {},
   "outputs": [],
   "source": [
    "df['Year'] = df['Year'].astype(int)"
   ]
  },
  {
   "cell_type": "markdown",
   "id": "239a36b6-dae8-47aa-b126-8dcfde532e9f",
   "metadata": {},
   "source": [
    "La colonne `Fatalities` possède une spécificité. Lorsque l'accident a entrainé des victimes qui ne sont pas dans l'avion cela est enregistré comme ceci \"10+3\"\n",
    "\n",
    "Ce qui rend impossible la conversion en format numérique sans effacer ces données c'est pourquoi nous allons séparer les victimes dans l'avion et celles a l'extérieur de l'avion.\n",
    "\n",
    "Fatalities_A : Les victimes présentes dans l'avion\n",
    "Fatalities_B : Les victimes a l’extérieur de l’appareil "
   ]
  },
  {
   "cell_type": "code",
   "execution_count": null,
   "id": "5b7e0aae-efdb-4fde-9b4d-d0cb8686ace5",
   "metadata": {},
   "outputs": [],
   "source": [
    "df[['Fatalities_A', 'Fatalities_B']] = df['Fatalities'].str.split('+',expand=True)"
   ]
  },
  {
   "cell_type": "code",
   "execution_count": 381,
   "id": "391ca087-d64a-4eab-8590-29b3615121df",
   "metadata": {},
   "outputs": [],
   "source": [
    "#df['Fatalities'] = pd.to_numeric(df['Fatalities'], errors='coerce')\n",
    "df['Fatalities_A'] = pd.to_numeric(df['Fatalities_A'], errors='coerce')\n",
    "df['Fatalities_B'] = pd.to_numeric(df['Fatalities_B'], errors='coerce')"
   ]
  },
  {
   "cell_type": "code",
   "execution_count": 397,
   "id": "a593189a-b1f6-4fe8-866b-c2842fe9b84e",
   "metadata": {},
   "outputs": [],
   "source": [
    "df['Fatalities_B'] = df['Fatalities_B'].fillna(0)\n",
    "df['Fatalities_A'] = df['Fatalities_A'].fillna(0)\n",
    "df['Fatalities'] = df['Fatalities_A'] + df['Fatalities_B']"
   ]
  },
  {
   "cell_type": "code",
   "execution_count": 384,
   "id": "9595927f-2843-4180-8023-9f0dc6e5f845",
   "metadata": {},
   "outputs": [],
   "source": [
    "df['Day'] = pd.to_numeric(df['Day'], errors='coerce')\n",
    "df['Day'] = df['Day'].fillna(method='bfill', axis=0).fillna(0)"
   ]
  },
  {
   "cell_type": "code",
   "execution_count": 388,
   "id": "1848010c-3b8d-477b-b2c5-14676742ef44",
   "metadata": {},
   "outputs": [
    {
     "data": {
      "text/plain": [
       "Date             object\n",
       "Model            object\n",
       "Operator         object\n",
       "Fatalities      float64\n",
       "Location         object\n",
       "Category         object\n",
       "Registration     object\n",
       "Day             float64\n",
       "Month            object\n",
       "Year              int64\n",
       "Fatalities_A    float64\n",
       "Fatalities_B    float64\n",
       "dtype: object"
      ]
     },
     "execution_count": 388,
     "metadata": {},
     "output_type": "execute_result"
    }
   ],
   "source": [
    "df.dtypes"
   ]
  },
  {
   "cell_type": "code",
   "execution_count": 19,
   "id": "50db3caf-d91e-4174-9ab2-5a1b246997d3",
   "metadata": {},
   "outputs": [],
   "source": [
    "#df.drop('Date', axis=1, inplace=True)"
   ]
  },
  {
   "cell_type": "code",
   "execution_count": 398,
   "id": "3073bf05-106d-4890-badb-3e2bfc098325",
   "metadata": {},
   "outputs": [
    {
     "data": {
      "text/html": [
       "<div>\n",
       "<style scoped>\n",
       "    .dataframe tbody tr th:only-of-type {\n",
       "        vertical-align: middle;\n",
       "    }\n",
       "\n",
       "    .dataframe tbody tr th {\n",
       "        vertical-align: top;\n",
       "    }\n",
       "\n",
       "    .dataframe thead th {\n",
       "        text-align: right;\n",
       "    }\n",
       "</style>\n",
       "<table border=\"1\" class=\"dataframe\">\n",
       "  <thead>\n",
       "    <tr style=\"text-align: right;\">\n",
       "      <th></th>\n",
       "      <th>Date</th>\n",
       "      <th>Model</th>\n",
       "      <th>Operator</th>\n",
       "      <th>Fatalities</th>\n",
       "      <th>Location</th>\n",
       "      <th>Category</th>\n",
       "      <th>Registration</th>\n",
       "      <th>Day</th>\n",
       "      <th>Month</th>\n",
       "      <th>Year</th>\n",
       "      <th>Fatalities_A</th>\n",
       "      <th>Fatalities_B</th>\n",
       "    </tr>\n",
       "  </thead>\n",
       "  <tbody>\n",
       "    <tr>\n",
       "      <th>0</th>\n",
       "      <td>03-JAN-1960</td>\n",
       "      <td>Douglas C-47A (DC-3)</td>\n",
       "      <td>Indian Airlines</td>\n",
       "      <td>9.0</td>\n",
       "      <td>India</td>\n",
       "      <td>A1</td>\n",
       "      <td>VT-CGG</td>\n",
       "      <td>3.0</td>\n",
       "      <td>JAN</td>\n",
       "      <td>1960</td>\n",
       "      <td>9.0</td>\n",
       "      <td>0.0</td>\n",
       "    </tr>\n",
       "    <tr>\n",
       "      <th>1</th>\n",
       "      <td>03-JAN-1960</td>\n",
       "      <td>Lockheed L-749A Constellation</td>\n",
       "      <td>Eastern Air Lines</td>\n",
       "      <td>0.0</td>\n",
       "      <td>USA</td>\n",
       "      <td>A1</td>\n",
       "      <td>N110A</td>\n",
       "      <td>3.0</td>\n",
       "      <td>JAN</td>\n",
       "      <td>1960</td>\n",
       "      <td>0.0</td>\n",
       "      <td>0.0</td>\n",
       "    </tr>\n",
       "    <tr>\n",
       "      <th>2</th>\n",
       "      <td>04-JAN-1960</td>\n",
       "      <td>Curtiss C-46A</td>\n",
       "      <td>T.A. Salvador</td>\n",
       "      <td>0.0</td>\n",
       "      <td>Brazil</td>\n",
       "      <td>A1</td>\n",
       "      <td>PP-SLJ</td>\n",
       "      <td>4.0</td>\n",
       "      <td>JAN</td>\n",
       "      <td>1960</td>\n",
       "      <td>0.0</td>\n",
       "      <td>0.0</td>\n",
       "    </tr>\n",
       "    <tr>\n",
       "      <th>3</th>\n",
       "      <td>04-JAN-1960</td>\n",
       "      <td>U-1A Otter (DHC-3)</td>\n",
       "      <td>US Army</td>\n",
       "      <td>10.0</td>\n",
       "      <td>Libya</td>\n",
       "      <td>A1</td>\n",
       "      <td>55-2974</td>\n",
       "      <td>4.0</td>\n",
       "      <td>JAN</td>\n",
       "      <td>1960</td>\n",
       "      <td>10.0</td>\n",
       "      <td>0.0</td>\n",
       "    </tr>\n",
       "    <tr>\n",
       "      <th>4</th>\n",
       "      <td>05-JAN-1960</td>\n",
       "      <td>Vickers 701 Viscount</td>\n",
       "      <td>BEA</td>\n",
       "      <td>0.0</td>\n",
       "      <td>Malta</td>\n",
       "      <td>A1</td>\n",
       "      <td>G-AMNY</td>\n",
       "      <td>5.0</td>\n",
       "      <td>JAN</td>\n",
       "      <td>1960</td>\n",
       "      <td>0.0</td>\n",
       "      <td>0.0</td>\n",
       "    </tr>\n",
       "  </tbody>\n",
       "</table>\n",
       "</div>"
      ],
      "text/plain": [
       "          Date                          Model           Operator  Fatalities  \\\n",
       "0  03-JAN-1960           Douglas C-47A (DC-3)    Indian Airlines         9.0   \n",
       "1  03-JAN-1960  Lockheed L-749A Constellation  Eastern Air Lines         0.0   \n",
       "2  04-JAN-1960                  Curtiss C-46A      T.A. Salvador         0.0   \n",
       "3  04-JAN-1960             U-1A Otter (DHC-3)            US Army        10.0   \n",
       "4  05-JAN-1960           Vickers 701 Viscount                BEA         0.0   \n",
       "\n",
       "  Location Category Registration  Day Month  Year  Fatalities_A  Fatalities_B  \n",
       "0    India       A1       VT-CGG  3.0   JAN  1960           9.0           0.0  \n",
       "1      USA       A1        N110A  3.0   JAN  1960           0.0           0.0  \n",
       "2   Brazil       A1       PP-SLJ  4.0   JAN  1960           0.0           0.0  \n",
       "3    Libya       A1      55-2974  4.0   JAN  1960          10.0           0.0  \n",
       "4    Malta       A1       G-AMNY  5.0   JAN  1960           0.0           0.0  "
      ]
     },
     "execution_count": 398,
     "metadata": {},
     "output_type": "execute_result"
    }
   ],
   "source": [
    "df.head()"
   ]
  },
  {
   "cell_type": "markdown",
   "id": "ee2864bf-7d88-4f9f-8374-8095820087d7",
   "metadata": {},
   "source": [
    "## EDA"
   ]
  },
  {
   "cell_type": "code",
   "execution_count": 399,
   "id": "773fdea3-d091-4873-bb7f-22645aa53f19",
   "metadata": {},
   "outputs": [
    {
     "name": "stdout",
     "output_type": "stream",
     "text": [
      "97383.0\n"
     ]
    }
   ],
   "source": [
    "print(df['Fatalities'].sum())"
   ]
  },
  {
   "cell_type": "code",
   "execution_count": 400,
   "id": "65920dcb-5a50-448b-a268-198a4351bb43",
   "metadata": {},
   "outputs": [
    {
     "name": "stdout",
     "output_type": "stream",
     "text": [
      "(14997, 12)\n"
     ]
    }
   ],
   "source": [
    "print(df.shape)"
   ]
  },
  {
   "cell_type": "markdown",
   "id": "fad9b130-16bc-4482-8be5-b18a66f4b329",
   "metadata": {},
   "source": [
    "Le nombre de victimes dans le monde entre 1960 et 2022 est de 97 383 personnes pour 14997 accidents."
   ]
  },
  {
   "cell_type": "code",
   "execution_count": 401,
   "id": "b452a6f2-834d-4e93-8bff-d07eeb88b3f2",
   "metadata": {},
   "outputs": [
    {
     "name": "stdout",
     "output_type": "stream",
     "text": [
      "Accidents impliquant au moins un décès: 5601\n",
      "Accidents non fatal: 9396\n",
      "Pourcentage d'accidents entrainant au moins un décès : 59.61%\n"
     ]
    }
   ],
   "source": [
    "fatal_no = df[(df['Fatalities'] > 0) & (df['Fatalities'].notnull())].shape[0]\n",
    "print(\"Accidents impliquant au moins un décès:\",fatal_no)\n",
    "\n",
    "non_fatal = df[(df['Fatalities'] == 0) & (df['Fatalities'].notnull())].shape[0]\n",
    "print(\"Accidents non fatal:\",non_fatal)\n",
    "\n",
    "print(f\"Pourcentage d'accidents entrainant au moins un décès : {fatal_no/non_fatal*100:.2f}%\")\n"
   ]
  },
  {
   "cell_type": "markdown",
   "id": "6bc2a2e3-9eee-4bdf-ad7b-4805a602395c",
   "metadata": {},
   "source": [
    "Plus de 1 accident d'avion sur 2 entraine au moins un décès parmi les victimes."
   ]
  },
  {
   "cell_type": "markdown",
   "id": "cecd67ca-f8fa-42ff-903f-a4784e287c0c",
   "metadata": {},
   "source": [
    "### Répartition des accidents dans le monde"
   ]
  },
  {
   "cell_type": "markdown",
   "id": "53488769-8dfb-47be-9333-b5efa67686e4",
   "metadata": {},
   "source": [
    "Voyons quels sont les 5 pays comptant le plus de victimes dans des accidents de 1960 à 2022 "
   ]
  },
  {
   "cell_type": "code",
   "execution_count": 402,
   "id": "d9fada83-90cf-4f2c-aad2-5612fc10128e",
   "metadata": {},
   "outputs": [],
   "source": [
    "loc_df = df.groupby('Location').agg({'Fatalities':'sum','Location':'size'})"
   ]
  },
  {
   "cell_type": "code",
   "execution_count": 403,
   "id": "4be1cc6f-9410-41ca-8068-f26aa48d6484",
   "metadata": {},
   "outputs": [],
   "source": [
    "loc_df = loc_df.rename(columns={'Location':'Count'}).reset_index()"
   ]
  },
  {
   "cell_type": "code",
   "execution_count": 404,
   "id": "2d438a0c-bca8-461b-a209-ae8cd3d7db1e",
   "metadata": {},
   "outputs": [
    {
     "data": {
      "text/html": [
       "<div>\n",
       "<style scoped>\n",
       "    .dataframe tbody tr th:only-of-type {\n",
       "        vertical-align: middle;\n",
       "    }\n",
       "\n",
       "    .dataframe tbody tr th {\n",
       "        vertical-align: top;\n",
       "    }\n",
       "\n",
       "    .dataframe thead th {\n",
       "        text-align: right;\n",
       "    }\n",
       "</style>\n",
       "<table border=\"1\" class=\"dataframe\">\n",
       "  <thead>\n",
       "    <tr style=\"text-align: right;\">\n",
       "      <th></th>\n",
       "      <th>Location</th>\n",
       "      <th>Fatalities</th>\n",
       "      <th>Count</th>\n",
       "    </tr>\n",
       "  </thead>\n",
       "  <tbody>\n",
       "    <tr>\n",
       "      <th>211</th>\n",
       "      <td>USA</td>\n",
       "      <td>12624.0</td>\n",
       "      <td>2928</td>\n",
       "    </tr>\n",
       "    <tr>\n",
       "      <th>165</th>\n",
       "      <td>Russia</td>\n",
       "      <td>7599.0</td>\n",
       "      <td>1038</td>\n",
       "    </tr>\n",
       "    <tr>\n",
       "      <th>95</th>\n",
       "      <td>Indonesia</td>\n",
       "      <td>2963.0</td>\n",
       "      <td>318</td>\n",
       "    </tr>\n",
       "    <tr>\n",
       "      <th>45</th>\n",
       "      <td>Colombia</td>\n",
       "      <td>2778.0</td>\n",
       "      <td>374</td>\n",
       "    </tr>\n",
       "    <tr>\n",
       "      <th>93</th>\n",
       "      <td>India</td>\n",
       "      <td>2621.0</td>\n",
       "      <td>285</td>\n",
       "    </tr>\n",
       "  </tbody>\n",
       "</table>\n",
       "</div>"
      ],
      "text/plain": [
       "      Location  Fatalities  Count\n",
       "211        USA     12624.0   2928\n",
       "165     Russia      7599.0   1038\n",
       "95   Indonesia      2963.0    318\n",
       "45    Colombia      2778.0    374\n",
       "93       India      2621.0    285"
      ]
     },
     "execution_count": 404,
     "metadata": {},
     "output_type": "execute_result"
    }
   ],
   "source": [
    "loc_df = loc_df.sort_values(by='Fatalities', ascending=False)\n",
    "loc_df.head()"
   ]
  },
  {
   "cell_type": "markdown",
   "id": "1430ee4f-05c2-4d43-bd45-69f4346f4b6c",
   "metadata": {},
   "source": [
    "On remarque que les USA comptent le plus de victimes d'accidents mais cela ne dit pas s'il s'agit d'une multitude d’accidents de petits avions ou de plus gros accidents.\n",
    "Je vais donc calculer la moyenne des victimes d’accidents par pays."
   ]
  },
  {
   "cell_type": "code",
   "execution_count": 405,
   "id": "af18625c-73ba-43bb-9e1b-82d204f229b0",
   "metadata": {},
   "outputs": [
    {
     "data": {
      "text/html": [
       "<div>\n",
       "<style scoped>\n",
       "    .dataframe tbody tr th:only-of-type {\n",
       "        vertical-align: middle;\n",
       "    }\n",
       "\n",
       "    .dataframe tbody tr th {\n",
       "        vertical-align: top;\n",
       "    }\n",
       "\n",
       "    .dataframe thead th {\n",
       "        text-align: right;\n",
       "    }\n",
       "</style>\n",
       "<table border=\"1\" class=\"dataframe\">\n",
       "  <thead>\n",
       "    <tr style=\"text-align: right;\">\n",
       "      <th></th>\n",
       "      <th>Location</th>\n",
       "      <th>Fatalities</th>\n",
       "      <th>Count</th>\n",
       "    </tr>\n",
       "  </thead>\n",
       "  <tbody>\n",
       "    <tr>\n",
       "      <th>25</th>\n",
       "      <td>Benin</td>\n",
       "      <td>47.000000</td>\n",
       "      <td>3</td>\n",
       "    </tr>\n",
       "    <tr>\n",
       "      <th>94</th>\n",
       "      <td>Indian Ocean</td>\n",
       "      <td>43.538462</td>\n",
       "      <td>13</td>\n",
       "    </tr>\n",
       "    <tr>\n",
       "      <th>129</th>\n",
       "      <td>Mediterranean Sea</td>\n",
       "      <td>42.666667</td>\n",
       "      <td>12</td>\n",
       "    </tr>\n",
       "    <tr>\n",
       "      <th>46</th>\n",
       "      <td>Comoros</td>\n",
       "      <td>40.625000</td>\n",
       "      <td>8</td>\n",
       "    </tr>\n",
       "    <tr>\n",
       "      <th>21</th>\n",
       "      <td>Barbados</td>\n",
       "      <td>36.500000</td>\n",
       "      <td>2</td>\n",
       "    </tr>\n",
       "  </tbody>\n",
       "</table>\n",
       "</div>"
      ],
      "text/plain": [
       "              Location  Fatalities  Count\n",
       "25               Benin   47.000000      3\n",
       "94        Indian Ocean   43.538462     13\n",
       "129  Mediterranean Sea   42.666667     12\n",
       "46             Comoros   40.625000      8\n",
       "21            Barbados   36.500000      2"
      ]
     },
     "execution_count": 405,
     "metadata": {},
     "output_type": "execute_result"
    }
   ],
   "source": [
    "avg_df = df.groupby('Location').agg({'Fatalities':'mean','Location':'size'}).rename(columns={'Location':'Count'}).reset_index()\n",
    "avg_df = avg_df.sort_values(by='Fatalities', ascending=False)\n",
    "avg_df.head()"
   ]
  },
  {
   "cell_type": "markdown",
   "id": "3e08c320-1cfb-4a98-abac-7703a00d6fc3",
   "metadata": {},
   "source": [
    "On remarque que le classement change, c'est dans la Macédoine, l’ocean indien et le Bénin qui concentrent les accidents les plus graves.\n",
    "\n",
    "Où s'est passée l'accident entrainant le plus de victimes ?"
   ]
  },
  {
   "cell_type": "code",
   "execution_count": 406,
   "id": "728f9e88-aca6-4335-8634-caf7b0a3b6bf",
   "metadata": {},
   "outputs": [
    {
     "data": {
      "text/html": [
       "<div>\n",
       "<style scoped>\n",
       "    .dataframe tbody tr th:only-of-type {\n",
       "        vertical-align: middle;\n",
       "    }\n",
       "\n",
       "    .dataframe tbody tr th {\n",
       "        vertical-align: top;\n",
       "    }\n",
       "\n",
       "    .dataframe thead th {\n",
       "        text-align: right;\n",
       "    }\n",
       "</style>\n",
       "<table border=\"1\" class=\"dataframe\">\n",
       "  <thead>\n",
       "    <tr style=\"text-align: right;\">\n",
       "      <th></th>\n",
       "      <th>Location</th>\n",
       "      <th>Fatalities</th>\n",
       "    </tr>\n",
       "  </thead>\n",
       "  <tbody>\n",
       "    <tr>\n",
       "      <th>211</th>\n",
       "      <td>USA</td>\n",
       "      <td>1692.0</td>\n",
       "    </tr>\n",
       "    <tr>\n",
       "      <th>102</th>\n",
       "      <td>Japan</td>\n",
       "      <td>520.0</td>\n",
       "    </tr>\n",
       "    <tr>\n",
       "      <th>72</th>\n",
       "      <td>France</td>\n",
       "      <td>346.0</td>\n",
       "    </tr>\n",
       "    <tr>\n",
       "      <th>185</th>\n",
       "      <td>Spain</td>\n",
       "      <td>335.0</td>\n",
       "    </tr>\n",
       "    <tr>\n",
       "      <th>13</th>\n",
       "      <td>Atlantic Ocean</td>\n",
       "      <td>329.0</td>\n",
       "    </tr>\n",
       "  </tbody>\n",
       "</table>\n",
       "</div>"
      ],
      "text/plain": [
       "           Location  Fatalities\n",
       "211             USA      1692.0\n",
       "102           Japan       520.0\n",
       "72           France       346.0\n",
       "185           Spain       335.0\n",
       "13   Atlantic Ocean       329.0"
      ]
     },
     "execution_count": 406,
     "metadata": {},
     "output_type": "execute_result"
    }
   ],
   "source": [
    "max_df = df.groupby('Location')['Fatalities'].max().reset_index()\n",
    "max_df = max_df.sort_values(by='Fatalities', ascending=False)\n",
    "max_df.head()"
   ]
  },
  {
   "cell_type": "markdown",
   "id": "7a7320df-2c6a-4f1b-9b10-72396defa3ac",
   "metadata": {},
   "source": [
    "C'est au USA où s'est produit l'accident le plus grave depuis 1960, mais quand s'est il produit ?"
   ]
  },
  {
   "cell_type": "code",
   "execution_count": 409,
   "id": "603ab819-3f63-4bc2-bd5f-e4f46594aaa6",
   "metadata": {},
   "outputs": [
    {
     "name": "stdout",
     "output_type": "stream",
     "text": [
      "Date: 11-SEP-2001\n",
      "Model: Boeing 767-223ER\n",
      "Operator: American Airlines\n"
     ]
    }
   ],
   "source": [
    "idx = df['Fatalities'].idxmax()\n",
    "\n",
    "print(\"Date:\",df.at[idx,'Date'])\n",
    "print(\"Model:\",df.at[idx,'Model'])\n",
    "print(\"Operator:\",df.at[idx,'Operator'])"
   ]
  },
  {
   "cell_type": "markdown",
   "id": "f954d240-af63-4324-8344-fb8ca8e6c769",
   "metadata": {},
   "source": [
    "Il s'agit du tragique 11 Septembre 2001, que nous connaissons tous. Si le nombre de victimes est si élevé, c'est parce qu'il inclut les victimes présente dans le World Trade Center."
   ]
  },
  {
   "cell_type": "markdown",
   "id": "166671e0-fed9-4ea1-a835-7efce5c63569",
   "metadata": {},
   "source": [
    "Le second accident, le plus grave, s'est produit au Japon, impliquant cette fois-ci uniquement l'appareil et ses passagers."
   ]
  },
  {
   "cell_type": "code",
   "execution_count": 410,
   "id": "1446202d-b84f-4c4d-89bc-a80909cd237b",
   "metadata": {},
   "outputs": [
    {
     "name": "stdout",
     "output_type": "stream",
     "text": [
      "Date: 12-AUG-1985\n",
      "Model: Boeing 747SR-46\n",
      "Operator: JAL\n"
     ]
    }
   ],
   "source": [
    "idx = df['Fatalities_A'].idxmax()\n",
    "\n",
    "print(\"Date:\",df.at[idx,'Date'])\n",
    "print(\"Model:\",df.at[idx,'Model'])\n",
    "print(\"Operator:\",df.at[idx,'Operator'])"
   ]
  },
  {
   "cell_type": "markdown",
   "id": "bb549fc1-5b7f-4e07-954a-df0a20918659",
   "metadata": {},
   "source": [
    "\"Le 12 août 1985, le Boeing 747SR-46 assurant le vol 123 de Japan Airlines entre Tokyo et Osaka, s'écrase près du mont Osutaka, à 100 km de Tokyo, au Japon. Il y a 520 morts parmi les 524 personnes à bord, ce qui en fait le pire accident de l'histoire impliquant un seul appareil\" [Source Wikipedia](https://fr.wikipedia.org/wiki/Vol_Japan_Airlines_123)"
   ]
  },
  {
   "cell_type": "markdown",
   "id": "04092330-80f9-4043-9e1e-284cb1c97588",
   "metadata": {},
   "source": [
    "### Les modeles les plus impliqués dans le plus d’accident."
   ]
  },
  {
   "cell_type": "code",
   "execution_count": 412,
   "id": "dd2b03ce-cbe7-4f02-aedc-5dc35d0a6df2",
   "metadata": {},
   "outputs": [
    {
     "data": {
      "text/html": [
       "<div>\n",
       "<style scoped>\n",
       "    .dataframe tbody tr th:only-of-type {\n",
       "        vertical-align: middle;\n",
       "    }\n",
       "\n",
       "    .dataframe tbody tr th {\n",
       "        vertical-align: top;\n",
       "    }\n",
       "\n",
       "    .dataframe thead th {\n",
       "        text-align: right;\n",
       "    }\n",
       "</style>\n",
       "<table border=\"1\" class=\"dataframe\">\n",
       "  <thead>\n",
       "    <tr style=\"text-align: right;\">\n",
       "      <th></th>\n",
       "      <th>Model</th>\n",
       "      <th>Fatalities_A</th>\n",
       "    </tr>\n",
       "  </thead>\n",
       "  <tbody>\n",
       "    <tr>\n",
       "      <th>2462</th>\n",
       "      <td>Tupolev Tu-154M</td>\n",
       "      <td>1589.0</td>\n",
       "    </tr>\n",
       "    <tr>\n",
       "      <th>1560</th>\n",
       "      <td>Douglas C-47A (DC-3)</td>\n",
       "      <td>1459.0</td>\n",
       "    </tr>\n",
       "    <tr>\n",
       "      <th>1415</th>\n",
       "      <td>DC-9-32</td>\n",
       "      <td>1355.0</td>\n",
       "    </tr>\n",
       "    <tr>\n",
       "      <th>2120</th>\n",
       "      <td>Lockheed C-130H Hercules</td>\n",
       "      <td>1253.0</td>\n",
       "    </tr>\n",
       "    <tr>\n",
       "      <th>159</th>\n",
       "      <td>Antonov An-26</td>\n",
       "      <td>1199.0</td>\n",
       "    </tr>\n",
       "    <tr>\n",
       "      <th>2019</th>\n",
       "      <td>Ilyushin Il-18V</td>\n",
       "      <td>1145.0</td>\n",
       "    </tr>\n",
       "    <tr>\n",
       "      <th>1462</th>\n",
       "      <td>DHC-6 Twin Otter 300</td>\n",
       "      <td>1042.0</td>\n",
       "    </tr>\n",
       "    <tr>\n",
       "      <th>1558</th>\n",
       "      <td>Douglas C-47 (DC-3)</td>\n",
       "      <td>974.0</td>\n",
       "    </tr>\n",
       "    <tr>\n",
       "      <th>2447</th>\n",
       "      <td>Tupolev Tu-134A</td>\n",
       "      <td>871.0</td>\n",
       "    </tr>\n",
       "    <tr>\n",
       "      <th>155</th>\n",
       "      <td>Antonov An-24RV</td>\n",
       "      <td>843.0</td>\n",
       "    </tr>\n",
       "  </tbody>\n",
       "</table>\n",
       "</div>"
      ],
      "text/plain": [
       "                         Model  Fatalities_A\n",
       "2462           Tupolev Tu-154M        1589.0\n",
       "1560      Douglas C-47A (DC-3)        1459.0\n",
       "1415                   DC-9-32        1355.0\n",
       "2120  Lockheed C-130H Hercules        1253.0\n",
       "159              Antonov An-26        1199.0\n",
       "2019           Ilyushin Il-18V        1145.0\n",
       "1462      DHC-6 Twin Otter 300        1042.0\n",
       "1558       Douglas C-47 (DC-3)         974.0\n",
       "2447           Tupolev Tu-134A         871.0\n",
       "155            Antonov An-24RV         843.0"
      ]
     },
     "execution_count": 412,
     "metadata": {},
     "output_type": "execute_result"
    }
   ],
   "source": [
    "model_df = df.groupby('Model')['Fatalities_A'].sum().reset_index()\n",
    "model_df = model_df.sort_values(by='Fatalities_A', ascending=False)\n",
    "model_df.head(10)"
   ]
  },
  {
   "cell_type": "markdown",
   "id": "adfa8ac7-4ff0-4575-8ee6-f02ddbe5eec4",
   "metadata": {},
   "source": [
    "Les modèles des constructeurs Douglas (DC) et Antonov apparaissent 3 fois dans les modèles impliqués dans des accidents mortels, dont notamment le Douglas C-47."
   ]
  },
  {
   "cell_type": "code",
   "execution_count": 413,
   "id": "19813de0-adcf-47ab-ba38-cda53ee975f7",
   "metadata": {},
   "outputs": [],
   "source": [
    "constructor = []\n",
    "for model in df['Model']:\n",
    "    constructor0 = model.split()[0]\n",
    "    constructor.append(constructor0)\n",
    "    "
   ]
  },
  {
   "cell_type": "code",
   "execution_count": 414,
   "id": "8ebc8c45-e617-4f93-90b3-68e3f47cfafa",
   "metadata": {},
   "outputs": [],
   "source": [
    "df['Constructor'] = constructor"
   ]
  },
  {
   "cell_type": "code",
   "execution_count": 415,
   "id": "ebfba751-0158-4ac1-a147-76e5420a535d",
   "metadata": {},
   "outputs": [
    {
     "data": {
      "text/plain": [
       "288"
      ]
     },
     "execution_count": 415,
     "metadata": {},
     "output_type": "execute_result"
    }
   ],
   "source": [
    "df['Constructor'].nunique()"
   ]
  },
  {
   "cell_type": "code",
   "execution_count": 416,
   "id": "7636e745-7a9f-49fb-951c-4072f90f917e",
   "metadata": {},
   "outputs": [
    {
     "data": {
      "text/html": [
       "<div>\n",
       "<style scoped>\n",
       "    .dataframe tbody tr th:only-of-type {\n",
       "        vertical-align: middle;\n",
       "    }\n",
       "\n",
       "    .dataframe tbody tr th {\n",
       "        vertical-align: top;\n",
       "    }\n",
       "\n",
       "    .dataframe thead th {\n",
       "        text-align: right;\n",
       "    }\n",
       "</style>\n",
       "<table border=\"1\" class=\"dataframe\">\n",
       "  <thead>\n",
       "    <tr style=\"text-align: right;\">\n",
       "      <th></th>\n",
       "      <th>Constructor</th>\n",
       "      <th>Fatalities</th>\n",
       "    </tr>\n",
       "  </thead>\n",
       "  <tbody>\n",
       "    <tr>\n",
       "      <th>53</th>\n",
       "      <td>Boeing</td>\n",
       "      <td>22757.0</td>\n",
       "    </tr>\n",
       "    <tr>\n",
       "      <th>178</th>\n",
       "      <td>Douglas</td>\n",
       "      <td>8964.0</td>\n",
       "    </tr>\n",
       "    <tr>\n",
       "      <th>9</th>\n",
       "      <td>Antonov</td>\n",
       "      <td>8289.0</td>\n",
       "    </tr>\n",
       "    <tr>\n",
       "      <th>214</th>\n",
       "      <td>Lockheed</td>\n",
       "      <td>7384.0</td>\n",
       "    </tr>\n",
       "    <tr>\n",
       "      <th>274</th>\n",
       "      <td>Tupolev</td>\n",
       "      <td>5924.0</td>\n",
       "    </tr>\n",
       "    <tr>\n",
       "      <th>205</th>\n",
       "      <td>Ilyushin</td>\n",
       "      <td>4961.0</td>\n",
       "    </tr>\n",
       "    <tr>\n",
       "      <th>6</th>\n",
       "      <td>Airbus</td>\n",
       "      <td>4150.0</td>\n",
       "    </tr>\n",
       "    <tr>\n",
       "      <th>185</th>\n",
       "      <td>Fokker</td>\n",
       "      <td>2575.0</td>\n",
       "    </tr>\n",
       "    <tr>\n",
       "      <th>184</th>\n",
       "      <td>Fairchild</td>\n",
       "      <td>1955.0</td>\n",
       "    </tr>\n",
       "    <tr>\n",
       "      <th>279</th>\n",
       "      <td>Vickers</td>\n",
       "      <td>1842.0</td>\n",
       "    </tr>\n",
       "  </tbody>\n",
       "</table>\n",
       "</div>"
      ],
      "text/plain": [
       "    Constructor  Fatalities\n",
       "53       Boeing     22757.0\n",
       "178     Douglas      8964.0\n",
       "9       Antonov      8289.0\n",
       "214    Lockheed      7384.0\n",
       "274     Tupolev      5924.0\n",
       "205    Ilyushin      4961.0\n",
       "6        Airbus      4150.0\n",
       "185      Fokker      2575.0\n",
       "184   Fairchild      1955.0\n",
       "279     Vickers      1842.0"
      ]
     },
     "execution_count": 416,
     "metadata": {},
     "output_type": "execute_result"
    }
   ],
   "source": [
    "constructor_df = df.groupby('Constructor')['Fatalities'].sum().reset_index()\n",
    "constructor_df = constructor_df.sort_values(by='Fatalities', ascending=False)\n",
    "constructor_df.head(10)"
   ]
  },
  {
   "cell_type": "code",
   "execution_count": 417,
   "id": "b2f15ae5-f3c1-4842-9a52-93c0b351fca2",
   "metadata": {},
   "outputs": [
    {
     "data": {
      "text/html": [
       "<div>\n",
       "<style scoped>\n",
       "    .dataframe tbody tr th:only-of-type {\n",
       "        vertical-align: middle;\n",
       "    }\n",
       "\n",
       "    .dataframe tbody tr th {\n",
       "        vertical-align: top;\n",
       "    }\n",
       "\n",
       "    .dataframe thead th {\n",
       "        text-align: right;\n",
       "    }\n",
       "</style>\n",
       "<table border=\"1\" class=\"dataframe\">\n",
       "  <thead>\n",
       "    <tr style=\"text-align: right;\">\n",
       "      <th></th>\n",
       "      <th>Constructor</th>\n",
       "      <th>Fatalities</th>\n",
       "      <th>percent</th>\n",
       "    </tr>\n",
       "  </thead>\n",
       "  <tbody>\n",
       "    <tr>\n",
       "      <th>53</th>\n",
       "      <td>Boeing</td>\n",
       "      <td>22757.0</td>\n",
       "      <td>23.368555</td>\n",
       "    </tr>\n",
       "    <tr>\n",
       "      <th>178</th>\n",
       "      <td>Douglas</td>\n",
       "      <td>8964.0</td>\n",
       "      <td>9.204892</td>\n",
       "    </tr>\n",
       "    <tr>\n",
       "      <th>9</th>\n",
       "      <td>Antonov</td>\n",
       "      <td>8289.0</td>\n",
       "      <td>8.511753</td>\n",
       "    </tr>\n",
       "    <tr>\n",
       "      <th>214</th>\n",
       "      <td>Lockheed</td>\n",
       "      <td>7384.0</td>\n",
       "      <td>7.582432</td>\n",
       "    </tr>\n",
       "    <tr>\n",
       "      <th>274</th>\n",
       "      <td>Tupolev</td>\n",
       "      <td>5924.0</td>\n",
       "      <td>6.083197</td>\n",
       "    </tr>\n",
       "    <tr>\n",
       "      <th>205</th>\n",
       "      <td>Ilyushin</td>\n",
       "      <td>4961.0</td>\n",
       "      <td>5.094318</td>\n",
       "    </tr>\n",
       "    <tr>\n",
       "      <th>6</th>\n",
       "      <td>Airbus</td>\n",
       "      <td>4150.0</td>\n",
       "      <td>4.261524</td>\n",
       "    </tr>\n",
       "    <tr>\n",
       "      <th>185</th>\n",
       "      <td>Fokker</td>\n",
       "      <td>2575.0</td>\n",
       "      <td>2.644199</td>\n",
       "    </tr>\n",
       "    <tr>\n",
       "      <th>184</th>\n",
       "      <td>Fairchild</td>\n",
       "      <td>1955.0</td>\n",
       "      <td>2.007537</td>\n",
       "    </tr>\n",
       "    <tr>\n",
       "      <th>279</th>\n",
       "      <td>Vickers</td>\n",
       "      <td>1842.0</td>\n",
       "      <td>1.891501</td>\n",
       "    </tr>\n",
       "  </tbody>\n",
       "</table>\n",
       "</div>"
      ],
      "text/plain": [
       "    Constructor  Fatalities    percent\n",
       "53       Boeing     22757.0  23.368555\n",
       "178     Douglas      8964.0   9.204892\n",
       "9       Antonov      8289.0   8.511753\n",
       "214    Lockheed      7384.0   7.582432\n",
       "274     Tupolev      5924.0   6.083197\n",
       "205    Ilyushin      4961.0   5.094318\n",
       "6        Airbus      4150.0   4.261524\n",
       "185      Fokker      2575.0   2.644199\n",
       "184   Fairchild      1955.0   2.007537\n",
       "279     Vickers      1842.0   1.891501"
      ]
     },
     "execution_count": 417,
     "metadata": {},
     "output_type": "execute_result"
    }
   ],
   "source": [
    "constructor_df['percent'] = (constructor_df['Fatalities']/df['Fatalities'].sum())*100\n",
    "constructor_df.head(10)"
   ]
  },
  {
   "cell_type": "markdown",
   "id": "eb782892-94af-42a7-86ab-3c08899b684d",
   "metadata": {},
   "source": [
    "On remarque, Boeing est l'avionneur ayant le plus de victimes à son actif, 2x plus que le second avionneur Douglas.\n",
    "\n",
    "Cependant, il serait faux de dire que Boeing (ou les autres de la liste) est l'avionneur le plus \"dangereux\" car :\n",
    "- Les avions Boeing sont les plus utilisés dans le monde pour les vols commerciaux et donc la probabilité qu'un Boeing soit impliqué est grande\n",
    "- Boeing à l'instar d'Airbus par exemple, existe depuis 1916 contre 1971 pour Airbus, la longévité augmente les chances d'être impliqués dans un accident.\n",
    "\n",
    "Autrement dit, les faits sont là, mais il nous manque des informations pour pouvoir interpréter et tirer des conclusions.\n",
    "\n",
    "De plus, en comparant avec les modèles, aucun modèle de Boeing n'apparait dans les 10 modèles les plus impliqués dans des accidents mortels."
   ]
  },
  {
   "cell_type": "markdown",
   "id": "0a8bf612-d1d1-4fef-848b-b542cede424f",
   "metadata": {},
   "source": [
    "### Tendances des accidents dans le temps, par catégories"
   ]
  },
  {
   "cell_type": "markdown",
   "id": "764f6986-c1a1-48dc-a692-3699dbc3c045",
   "metadata": {},
   "source": [
    "Accident Categories:\n",
    "- A = Accident\n",
    "- I = Incident\n",
    "- H = Hijacking\n",
    "- C = Criminal occurrence (sabotage, shoot down)\n",
    "- O= other occurrence (ground fire, sabotage)\n",
    "- U= type of occurrence unknown\n",
    "\n",
    "- 1 = hull-loss\n",
    "- 2 = repairable damage"
   ]
  },
  {
   "cell_type": "code",
   "execution_count": 418,
   "id": "bdb3709b-8b5f-4d0b-9bd8-6a7e2ced9527",
   "metadata": {},
   "outputs": [
    {
     "data": {
      "image/png": "[encoded data removed]",
      "text/plain": [
       "<Figure size 1000x600 with 1 Axes>"
      ]
     },
     "metadata": {},
     "output_type": "display_data"
    }
   ],
   "source": [
    "cat_fatality = df.groupby(['Category', 'Year']).agg({'Fatalities': 'sum'}).reset_index()\n",
    "\n",
    "\n",
    "# Sort the values by number of fatalities and take only the top 5 categories\n",
    "top_5 = cat_fatality.groupby('Category').agg({'Fatalities': 'sum'}).sort_values(by='Fatalities', ascending=False).head(5).index\n",
    "\n",
    "# Filter the data to keep only the top top 5 categories\n",
    "cat_top5 = cat_fatality[cat_fatality['Category'].isin(top_5)]\n",
    "\n",
    "# Pivot the data to have a column for each category and a row for each year\n",
    "cat_pivot = cat_top5.pivot(index='Year', columns='Category', values='Fatalities')\n",
    "\n",
    "# Plot the data as a line chart\n",
    "cat_pivot.plot.line(figsize=(10, 6))\n",
    "\n",
    "# Add a title and axis labels\n",
    "plt.title('Number of Fatalities by Category')\n",
    "plt.xlabel('Year')\n",
    "plt.ylabel('Number of Fatalities')\n",
    "\n",
    "# Display the plot\n",
    "plt.show()"
   ]
  },
  {
   "cell_type": "markdown",
   "id": "9816b8a3-350f-4d81-9556-7f6722732526",
   "metadata": {},
   "source": [
    "La chose la plus flagrante est ce pic traversant tout le graphique marquant très nettement le 11 septembre 2001.\n",
    "\n",
    "On peut aussi clairement remarquer que le nombre d’accidents a diminué au fil des années, avec une chute nette à la fin des années 90.\n",
    "\n",
    "Autrement dit, il est pratiquement 3x plus sûr de voyager en avion aujourd’hui qu'il ne l'était dans les années 60.\n",
    "\n",
    "On constate aussi que l'aviation a connu un pic d'actes criminels importants tout au long des années 80 avec de nombreuses victimes."
   ]
  },
  {
   "cell_type": "markdown",
   "id": "8fb6b17d-fe06-4ce3-8a1c-8402a80b714c",
   "metadata": {},
   "source": [
    "### Les chances d'accidents"
   ]
  },
  {
   "cell_type": "markdown",
   "id": "9d7fe935-f4ee-4383-825e-eb2bf7a51dc9",
   "metadata": {},
   "source": [
    "Nous allons maintenant répondre à la question centrale, quelle sont les probabilités de subir un accident d'avions.\n",
    "\n",
    "Nous allons réaliser ce calcul sur la période 2004-2019, car nous ne disposons que de données à partir de 2004 sur le nombre de vols dans le monde, et 2019 car 2020 et la COVID-19 a fortement affecté le trafic mondial.\n",
    "\n",
    "Cependant pour se faire il est nécessaire de distinguer les avions de lignes commerciaux, des autres types tel que les avions militaires ou les avions de tourisme. "
   ]
  },
  {
   "cell_type": "code",
   "execution_count": 284,
   "id": "c05188f6-511f-4d5e-924b-0852f5bc50aa",
   "metadata": {},
   "outputs": [
    {
     "data": {
      "text/html": [
       "<div>\n",
       "<style scoped>\n",
       "    .dataframe tbody tr th:only-of-type {\n",
       "        vertical-align: middle;\n",
       "    }\n",
       "\n",
       "    .dataframe tbody tr th {\n",
       "        vertical-align: top;\n",
       "    }\n",
       "\n",
       "    .dataframe thead th {\n",
       "        text-align: right;\n",
       "    }\n",
       "</style>\n",
       "<table border=\"1\" class=\"dataframe\">\n",
       "  <thead>\n",
       "    <tr style=\"text-align: right;\">\n",
       "      <th></th>\n",
       "      <th>Years</th>\n",
       "      <th>Flight (in millions)</th>\n",
       "    </tr>\n",
       "  </thead>\n",
       "  <tbody>\n",
       "    <tr>\n",
       "      <th>0</th>\n",
       "      <td>2004</td>\n",
       "      <td>23.8</td>\n",
       "    </tr>\n",
       "    <tr>\n",
       "      <th>1</th>\n",
       "      <td>2005</td>\n",
       "      <td>24.9</td>\n",
       "    </tr>\n",
       "    <tr>\n",
       "      <th>2</th>\n",
       "      <td>2006</td>\n",
       "      <td>25.5</td>\n",
       "    </tr>\n",
       "    <tr>\n",
       "      <th>3</th>\n",
       "      <td>2007</td>\n",
       "      <td>26.7</td>\n",
       "    </tr>\n",
       "    <tr>\n",
       "      <th>4</th>\n",
       "      <td>2008</td>\n",
       "      <td>26.5</td>\n",
       "    </tr>\n",
       "  </tbody>\n",
       "</table>\n",
       "</div>"
      ],
      "text/plain": [
       "   Years  Flight (in millions)\n",
       "0   2004                  23.8\n",
       "1   2005                  24.9\n",
       "2   2006                  25.5\n",
       "3   2007                  26.7\n",
       "4   2008                  26.5"
      ]
     },
     "execution_count": 284,
     "metadata": {},
     "output_type": "execute_result"
    }
   ],
   "source": [
    "fly_df = pd.read_csv(\"/Users/stratospheric/Documents/Plane Crash/Flight number by year.csv\")\n",
    "fly_df.head()"
   ]
  },
  {
   "cell_type": "code",
   "execution_count": 282,
   "id": "231a12b2-39cf-4361-839f-17b2f32be636",
   "metadata": {},
   "outputs": [
    {
     "data": {
      "text/plain": [
       "Years                    int64\n",
       "Flight (in millions)    object\n",
       "dtype: object"
      ]
     },
     "execution_count": 282,
     "metadata": {},
     "output_type": "execute_result"
    }
   ],
   "source": [
    "fly_df.dtypes"
   ]
  },
  {
   "cell_type": "code",
   "execution_count": 286,
   "id": "540db416-35e9-43c8-a4fc-8c13ad6a229b",
   "metadata": {},
   "outputs": [],
   "source": [
    "fly_df['Flight (in millions)'] = fly_df['Flight (in millions)'].astype('float')"
   ]
  },
  {
   "cell_type": "code",
   "execution_count": 419,
   "id": "4d701267-1240-4e1d-a56e-3d7336c01f76",
   "metadata": {},
   "outputs": [],
   "source": [
    "dfb = df[(df['Year'] < 2020) & (df['Year'] > 2003)]"
   ]
  },
  {
   "cell_type": "code",
   "execution_count": 420,
   "id": "21c688d3-8616-4a97-8841-c77f728fa12a",
   "metadata": {},
   "outputs": [
    {
     "data": {
      "text/plain": [
       "(3420, 13)"
      ]
     },
     "execution_count": 420,
     "metadata": {},
     "output_type": "execute_result"
    }
   ],
   "source": [
    "dfb.shape"
   ]
  },
  {
   "cell_type": "markdown",
   "id": "eafc6bbc-5e8e-4985-94fa-a1cb3bfd481e",
   "metadata": {},
   "source": [
    "Il y a eu 3420 accidents (toutes catégories) enregistrés entre 2019 et 2004."
   ]
  },
  {
   "cell_type": "code",
   "execution_count": 421,
   "id": "e137477a-0a73-4618-9209-a01852a6a10d",
   "metadata": {},
   "outputs": [
    {
     "name": "stdout",
     "output_type": "stream",
     "text": [
      "Accidents sans victime: 2553\n",
      "Accidents avec moins de 50 victimes: 806\n",
      "Accidents avec plus de 50 victimes: 61\n",
      "Accidents avec plus de 100 victimes: 36\n"
     ]
    }
   ],
   "source": [
    "#Calcul combien d'accident ont fait aucune victime\n",
    "no_fatal = dfb[dfb['Fatalities'] == 0].shape[0]\n",
    "fatal_m50 = dfb[(dfb['Fatalities'] < 50) & (dfb['Fatalities'] != 0)].shape[0]\n",
    "fatal_p50 = dfb[dfb['Fatalities'] >= 50].shape[0]\n",
    "fatal_m100 = dfb[dfb['Fatalities'] >= 100].shape[0]\n",
    "\n",
    "print(\"Accidents sans victime:\",no_fatal)\n",
    "print(\"Accidents avec moins de 50 victimes:\",fatal_m50)\n",
    "print(\"Accidents avec plus de 50 victimes:\",fatal_p50)\n",
    "print(\"Accidents avec plus de 100 victimes:\",fatal_m100)"
   ]
  },
  {
   "cell_type": "code",
   "execution_count": 423,
   "id": "06030ed5-93c7-4eec-89a0-1f8d3c22025d",
   "metadata": {},
   "outputs": [
    {
     "data": {
      "text/plain": [
       "0.01783625730994152"
      ]
     },
     "execution_count": 423,
     "metadata": {},
     "output_type": "execute_result"
    }
   ],
   "source": [
    "fatal_p50/dfb.shape[0]"
   ]
  },
  {
   "cell_type": "markdown",
   "id": "9fbc2b51-4e07-4532-abad-bef4a37faa62",
   "metadata": {},
   "source": [
    "Les accidents majeurs avec plus de 50 victimes ne représente que 17% des accidents enregistrés. Dont 10% de catastrophes impliquants plus de 100 victimes.\n",
    "\n",
    "Notre question est axé sur les accidents majeurs et la probabilité d'en subir. Nous allons donc se concentrer sur les accidents comptants plus de 50 victimes.\n",
    "\n",
    "Ne prendre que ce segment permet d'exclure notamment les petits avions mais d'inclure les courts-courriers."
   ]
  },
  {
   "cell_type": "code",
   "execution_count": 424,
   "id": "60464389-efa4-4005-a400-4bf3bf5094cd",
   "metadata": {},
   "outputs": [],
   "source": [
    "big_acc = dfb[dfb['Fatalities'] > 50]"
   ]
  },
  {
   "cell_type": "markdown",
   "id": "827ac3e8-7104-41ab-971f-9d7bc68decda",
   "metadata": {},
   "source": [
    "Pour essayer d'être plus précis, nous allons exclure les avions militaires et les vols privées pour se focaliser uniquement sur les vols commerciaux que nous prenons tous."
   ]
  },
  {
   "cell_type": "code",
   "execution_count": 425,
   "id": "4fd22850-93c8-4585-90eb-ee78dcb1daf9",
   "metadata": {},
   "outputs": [],
   "source": [
    "big_acc = big_acc[~big_acc['Operator'].str.contains('AF', na=False)]\n",
    "big_acc = big_acc[~big_acc['Operator'].str.contains('Force', na=False)]\n",
    "big_acc = big_acc[~big_acc['Operator'].str.contains('private', na=False)]"
   ]
  },
  {
   "cell_type": "code",
   "execution_count": 291,
   "id": "edff9c79-17a7-45a2-bd7f-70d2718a3a8b",
   "metadata": {},
   "outputs": [
    {
     "data": {
      "text/plain": [
       "(46, 11)"
      ]
     },
     "execution_count": 291,
     "metadata": {},
     "output_type": "execute_result"
    }
   ],
   "source": [
    "big_acc.shape"
   ]
  },
  {
   "cell_type": "markdown",
   "id": "64785b78-a2cc-456b-9e8d-360ba2c26bb6",
   "metadata": {},
   "source": [
    "On observe qu'il n'y a plus que 46 accidents enregistrés.\n",
    "\n",
    "Nous allons maintenant comparer cela avec le nombre de vols dans le monde par année"
   ]
  },
  {
   "cell_type": "code",
   "execution_count": 426,
   "id": "97e6f322-1c07-41e6-8f33-7c7081435c54",
   "metadata": {},
   "outputs": [],
   "source": [
    "grouped = big_acc.groupby(['Category', 'Year']).size().reset_index()\n",
    "grouped.rename(columns={0:'Count'}, inplace=True)\n"
   ]
  },
  {
   "cell_type": "code",
   "execution_count": 427,
   "id": "fc418285-4348-42f5-92ea-8de9fe8ca1e5",
   "metadata": {},
   "outputs": [],
   "source": [
    "pivot1 = grouped.pivot(index='Year', columns='Category', values='Count')"
   ]
  },
  {
   "cell_type": "code",
   "execution_count": null,
   "id": "559afbc7-ac83-44cf-bae7-b1aeac32c062",
   "metadata": {},
   "outputs": [],
   "source": [
    "fly_df = fly_df[fly_df['Years'] < 2020]\n",
    "fly_df.rename(columns={'Years':'Year'}, inplace=True)"
   ]
  },
  {
   "cell_type": "code",
   "execution_count": 429,
   "id": "d7c46c6c-a19f-41df-aa8c-5d1221c4eb66",
   "metadata": {},
   "outputs": [],
   "source": [
    "total_df = pd.merge(pivot1, fly_df, on='Year')"
   ]
  },
  {
   "cell_type": "code",
   "execution_count": 430,
   "id": "4c176bbf-8d2b-47f7-aba3-4386940d25a7",
   "metadata": {},
   "outputs": [],
   "source": [
    "total_df = total_df.fillna(0)\n",
    "total_df['Total'] = total_df['A1'] + total_df['C1']"
   ]
  },
  {
   "cell_type": "code",
   "execution_count": 431,
   "id": "4c4ea60e-63ca-4197-9d6c-51d707368426",
   "metadata": {},
   "outputs": [
    {
     "data": {
      "text/html": [
       "<div>\n",
       "<style scoped>\n",
       "    .dataframe tbody tr th:only-of-type {\n",
       "        vertical-align: middle;\n",
       "    }\n",
       "\n",
       "    .dataframe tbody tr th {\n",
       "        vertical-align: top;\n",
       "    }\n",
       "\n",
       "    .dataframe thead th {\n",
       "        text-align: right;\n",
       "    }\n",
       "</style>\n",
       "<table border=\"1\" class=\"dataframe\">\n",
       "  <thead>\n",
       "    <tr style=\"text-align: right;\">\n",
       "      <th></th>\n",
       "      <th>Year</th>\n",
       "      <th>A1</th>\n",
       "      <th>C1</th>\n",
       "      <th>Flight (in millions)</th>\n",
       "      <th>Total</th>\n",
       "      <th>Probability</th>\n",
       "    </tr>\n",
       "  </thead>\n",
       "  <tbody>\n",
       "    <tr>\n",
       "      <th>0</th>\n",
       "      <td>2004</td>\n",
       "      <td>2.0</td>\n",
       "      <td>0.0</td>\n",
       "      <td>23.8</td>\n",
       "      <td>2.0</td>\n",
       "      <td>0.000008</td>\n",
       "    </tr>\n",
       "    <tr>\n",
       "      <th>1</th>\n",
       "      <td>2005</td>\n",
       "      <td>7.0</td>\n",
       "      <td>0.0</td>\n",
       "      <td>24.9</td>\n",
       "      <td>7.0</td>\n",
       "      <td>0.000028</td>\n",
       "    </tr>\n",
       "    <tr>\n",
       "      <th>2</th>\n",
       "      <td>2006</td>\n",
       "      <td>5.0</td>\n",
       "      <td>0.0</td>\n",
       "      <td>25.5</td>\n",
       "      <td>5.0</td>\n",
       "      <td>0.000020</td>\n",
       "    </tr>\n",
       "    <tr>\n",
       "      <th>3</th>\n",
       "      <td>2007</td>\n",
       "      <td>5.0</td>\n",
       "      <td>0.0</td>\n",
       "      <td>26.7</td>\n",
       "      <td>5.0</td>\n",
       "      <td>0.000019</td>\n",
       "    </tr>\n",
       "    <tr>\n",
       "      <th>4</th>\n",
       "      <td>2008</td>\n",
       "      <td>3.0</td>\n",
       "      <td>0.0</td>\n",
       "      <td>26.5</td>\n",
       "      <td>3.0</td>\n",
       "      <td>0.000011</td>\n",
       "    </tr>\n",
       "    <tr>\n",
       "      <th>5</th>\n",
       "      <td>2009</td>\n",
       "      <td>3.0</td>\n",
       "      <td>0.0</td>\n",
       "      <td>25.9</td>\n",
       "      <td>3.0</td>\n",
       "      <td>0.000012</td>\n",
       "    </tr>\n",
       "    <tr>\n",
       "      <th>6</th>\n",
       "      <td>2010</td>\n",
       "      <td>5.0</td>\n",
       "      <td>0.0</td>\n",
       "      <td>27.8</td>\n",
       "      <td>5.0</td>\n",
       "      <td>0.000018</td>\n",
       "    </tr>\n",
       "    <tr>\n",
       "      <th>7</th>\n",
       "      <td>2011</td>\n",
       "      <td>2.0</td>\n",
       "      <td>0.0</td>\n",
       "      <td>30.1</td>\n",
       "      <td>2.0</td>\n",
       "      <td>0.000007</td>\n",
       "    </tr>\n",
       "    <tr>\n",
       "      <th>8</th>\n",
       "      <td>2012</td>\n",
       "      <td>2.0</td>\n",
       "      <td>0.0</td>\n",
       "      <td>31.2</td>\n",
       "      <td>2.0</td>\n",
       "      <td>0.000006</td>\n",
       "    </tr>\n",
       "    <tr>\n",
       "      <th>9</th>\n",
       "      <td>2014</td>\n",
       "      <td>3.0</td>\n",
       "      <td>1.0</td>\n",
       "      <td>33.0</td>\n",
       "      <td>4.0</td>\n",
       "      <td>0.000012</td>\n",
       "    </tr>\n",
       "    <tr>\n",
       "      <th>10</th>\n",
       "      <td>2015</td>\n",
       "      <td>1.0</td>\n",
       "      <td>2.0</td>\n",
       "      <td>34.0</td>\n",
       "      <td>3.0</td>\n",
       "      <td>0.000009</td>\n",
       "    </tr>\n",
       "    <tr>\n",
       "      <th>11</th>\n",
       "      <td>2016</td>\n",
       "      <td>2.0</td>\n",
       "      <td>1.0</td>\n",
       "      <td>35.2</td>\n",
       "      <td>3.0</td>\n",
       "      <td>0.000009</td>\n",
       "    </tr>\n",
       "    <tr>\n",
       "      <th>12</th>\n",
       "      <td>2018</td>\n",
       "      <td>5.0</td>\n",
       "      <td>0.0</td>\n",
       "      <td>38.1</td>\n",
       "      <td>5.0</td>\n",
       "      <td>0.000013</td>\n",
       "    </tr>\n",
       "    <tr>\n",
       "      <th>13</th>\n",
       "      <td>2019</td>\n",
       "      <td>1.0</td>\n",
       "      <td>0.0</td>\n",
       "      <td>38.9</td>\n",
       "      <td>1.0</td>\n",
       "      <td>0.000003</td>\n",
       "    </tr>\n",
       "  </tbody>\n",
       "</table>\n",
       "</div>"
      ],
      "text/plain": [
       "    Year   A1   C1  Flight (in millions)  Total  Probability\n",
       "0   2004  2.0  0.0                  23.8    2.0     0.000008\n",
       "1   2005  7.0  0.0                  24.9    7.0     0.000028\n",
       "2   2006  5.0  0.0                  25.5    5.0     0.000020\n",
       "3   2007  5.0  0.0                  26.7    5.0     0.000019\n",
       "4   2008  3.0  0.0                  26.5    3.0     0.000011\n",
       "5   2009  3.0  0.0                  25.9    3.0     0.000012\n",
       "6   2010  5.0  0.0                  27.8    5.0     0.000018\n",
       "7   2011  2.0  0.0                  30.1    2.0     0.000007\n",
       "8   2012  2.0  0.0                  31.2    2.0     0.000006\n",
       "9   2014  3.0  1.0                  33.0    4.0     0.000012\n",
       "10  2015  1.0  2.0                  34.0    3.0     0.000009\n",
       "11  2016  2.0  1.0                  35.2    3.0     0.000009\n",
       "12  2018  5.0  0.0                  38.1    5.0     0.000013\n",
       "13  2019  1.0  0.0                  38.9    1.0     0.000003"
      ]
     },
     "execution_count": 431,
     "metadata": {},
     "output_type": "execute_result"
    }
   ],
   "source": [
    "total_df['Probability'] = (total_df['Total']/(total_df['Flight (in millions)']*1000000))*100\n",
    "total_df"
   ]
  },
  {
   "cell_type": "code",
   "execution_count": 432,
   "id": "90e07866-79f2-499a-95ee-cd29f74fee06",
   "metadata": {},
   "outputs": [
    {
     "name": "stdout",
     "output_type": "stream",
     "text": [
      "Moyenne de vols par an (Pré-Covid): 30 millions\n"
     ]
    }
   ],
   "source": [
    "print(\"Moyenne de vols par an (Pré-Covid):\",round(total_df['Flight (in millions)'].mean()),\"millions\")"
   ]
  },
  {
   "cell_type": "code",
   "execution_count": 433,
   "id": "071709f4-2429-4fe8-8a1a-e2c0e999acaa",
   "metadata": {},
   "outputs": [
    {
     "name": "stdout",
     "output_type": "stream",
     "text": [
      "Moyenne d'accident par an (Pré-Covid): 4\n"
     ]
    }
   ],
   "source": [
    "print(\"Moyenne d'accident par an (Pré-Covid):\",round(total_df['Total'].mean()))"
   ]
  },
  {
   "cell_type": "code",
   "execution_count": 434,
   "id": "73a6a5ad-f789-4324-b0d7-51ad6ed1363e",
   "metadata": {},
   "outputs": [
    {
     "data": {
      "text/plain": [
       "1.242542292913679e-05"
      ]
     },
     "execution_count": 434,
     "metadata": {},
     "output_type": "execute_result"
    }
   ],
   "source": [
    "total_df['Probability'].mean()"
   ]
  },
  {
   "cell_type": "markdown",
   "id": "7588f21f-288a-4d4d-9dc3-d0e8e910121a",
   "metadata": {},
   "source": [
    "La probabilité moyenne de subir un accident est extrêmement faible, avec une moyenne de 30 millions de vols par an pour 4 accidents majeurs. Soit un peu plus d'un seul accident pour 10 millions de vols.\n",
    "\n",
    "Pour réaliser ce que cela signifie statistiquement, si nous vivions jusqu'à 83 ans, nous pourrions prendre l'avion 330 fois par jour pendant 82 ans sans être victime d'un accident majeur.\n",
    "\n",
    "Sans oublier qu'au fil des années, l'aviation devient plus sûre, réduisant ainsi encore davantage la probabilité d’accident majeur."
   ]
  },
  {
   "cell_type": "code",
   "execution_count": 435,
   "id": "70218c55-80e5-4ff0-8ecd-3ba59a9c3aec",
   "metadata": {},
   "outputs": [],
   "source": [
    "df.to_csv(\"ASN Database.csv\")"
   ]
  },
  {
   "cell_type": "code",
   "execution_count": null,
   "id": "439da2e8-5ec1-4822-a798-ead808ddac8c",
   "metadata": {},
   "outputs": [],
   "source": []
  }
 ],
 "metadata": {
  "kernelspec": {
   "display_name": "Python 3 (ipykernel)",
   "language": "python",
   "name": "python3"
  },
  "language_info": {
   "codemirror_mode": {
    "name": "ipython",
    "version": 3
   },
   "file_extension": ".py",
   "mimetype": "text/x-python",
   "name": "python",
   "nbconvert_exporter": "python",
   "pygments_lexer": "ipython3",
   "version": "3.10.9"
  }
 },
 "nbformat": 4,
 "nbformat_minor": 5
}
